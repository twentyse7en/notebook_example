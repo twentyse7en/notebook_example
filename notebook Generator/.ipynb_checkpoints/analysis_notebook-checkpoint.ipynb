{
 "cells": [
  {
   "cell_type": "code",
   "execution_count": 1,
   "metadata": {},
   "outputs": [],
   "source": [
    "import matplotlib.pyplot as plt\n",
    "import libertem.api as lt\n",
    "import numpy as np\n",
    "from libertem.analysis import SumAnalysis, RingMaskAnalysis"
   ]
  },
  {
   "cell_type": "code",
   "execution_count": 2,
   "metadata": {},
   "outputs": [],
   "source": [
    "%matplotlib nbagg"
   ]
  },
  {
   "cell_type": "markdown",
   "metadata": {},
   "source": [
    "# Connection\n",
    "**more docs about local conn**"
   ]
  },
  {
   "cell_type": "code",
   "execution_count": 3,
   "metadata": {},
   "outputs": [],
   "source": [
    "ctx = lt.Context()"
   ]
  },
  {
   "cell_type": "code",
   "execution_count": 4,
   "metadata": {},
   "outputs": [],
   "source": [
    "params = {'path': '/home/abi/Documents/LiberTEM_data/calibrationData_circularProbe.h5', 'ds_path': '4DSTEM_experiment/data/datacubes/polyAu_4DSTEM/data'}\n",
    "ds = ctx.load(\"HDF5\", **params)"
   ]
  },
  {
   "cell_type": "markdown",
   "metadata": {},
   "source": [
    "SumAnalysis"
   ]
  },
  {
   "cell_type": "code",
   "execution_count": null,
   "metadata": {},
   "outputs": [],
   "source": [
    "sum_analysis = SumAnalysis(dataset=ds, parameters={'roi': ''})\n",
    "sum_result = ctx.run(sum_analysis, progress=True)"
   ]
  },
  {
   "cell_type": "code",
   "execution_count": null,
   "metadata": {},
   "outputs": [],
   "source": [
    "plt.figure()\n",
    "plt.imshow(sum_result[0].visualized)"
   ]
  },
  {
   "cell_type": "markdown",
   "metadata": {},
   "source": [
    "RingMaskAnalysis"
   ]
  },
  {
   "cell_type": "code",
   "execution_count": null,
   "metadata": {},
   "outputs": [],
   "source": [
    "ring_analysis = RingMaskAnalysis(dataset=ds, parameters={'shape': 'ring', 'cx': 125, 'cy': 125, 'ri': 62.5, 'ro': 125})\n",
    "ring_result = ctx.run(ring_analysis, progress=True)"
   ]
  },
  {
   "cell_type": "code",
   "execution_count": null,
   "metadata": {},
   "outputs": [],
   "source": [
    "plt.figure()\n",
    "plt.imshow(ring_result[0].visualized)"
   ]
  }
 ],
 "metadata": {
  "kernelspec": {
   "display_name": "libertem-venv",
   "language": "python",
   "name": "libertem-venv"
  },
  "language_info": {
   "codemirror_mode": {
    "name": "ipython",
    "version": 3
   },
   "file_extension": ".py",
   "mimetype": "text/x-python",
   "name": "python",
   "nbconvert_exporter": "python",
   "pygments_lexer": "ipython3",
   "version": "3.7.4"
  }
 },
 "nbformat": 4,
 "nbformat_minor": 4
}
